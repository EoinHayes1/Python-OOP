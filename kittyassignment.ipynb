{
 "cells": [
  {
   "cell_type": "markdown",
   "metadata": {},
   "source": [
    "Kitty Assignment: \n",
    "\n",
    "Program is made from 3 class, Person attending event, transactions and the Event.  \n",
    "The person takes in the name of the person creates a balance and how much each member has paid.  \n",
    "The transaction class keeps track of the purchases and incremnts the balance of the person.  \n",
    "The Event class takes the event name and person adding and also creates a list of transactions.  \n",
    "New transactions are added to transaction list using add_transactions.  \n",
    "The kitty is created here as I couldn't get it to work using a class instance variable. \n",
    "In the balance kitty function, a debt and credit list are created. \n",
    "It then assigns each persons amounts based on wheather they owe more or are owed money.  \n",
    "the final part of the kitty_balance function goes through the credit and debt list, and adds total of x to person y and sets x to 0 to indicate the money has been moved, or visa vera.  \n",
    "Apologies for the rushed psudeo..."
   ]
  },
  {
   "cell_type": "code",
   "execution_count": null,
   "metadata": {},
   "outputs": [],
   "source": [
    "class Person:\n",
    "    def __init__(self, name):\n",
    "        self.name = name\n",
    "        self.paid = 0\n",
    "        self.person_balance = 0\n",
    "\n",
    "\n",
    "class Transaction:\n",
    "    def __init__(self, purchaees, event, amount, payee):\n",
    "        self.purchaees = purchaees\n",
    "        self.event = event\n",
    "        self.amount = amount\n",
    "        self.payee = payee\n",
    "        self.payee.paid += amount\n",
    "        \n",
    "        \n",
    "class Event:\n",
    "\n",
    "    def __init__(self, event, name_attending):\n",
    "        self.event = event\n",
    "        self.name_attending = name_attending\n",
    "        self.transactions = []\n",
    "\n",
    "    def add_transaction(self, purchases, amount, payee):\n",
    "        newtrans = Transaction(self, purchases, amount, payee)\n",
    "        self.transactions.append(newtrans)\n",
    "\n",
    "    def kitty(self):\n",
    "        total = 0\n",
    "        for i in self.transactions:\n",
    "            total += i.amount\n",
    "        return total\n",
    "\n",
    "    def balance_kitty(self):\n",
    "        kitty = self.kitty()\n",
    "        party_members = self.name_attending\n",
    "        kitty_balance = kitty/len(party_members)\n",
    "        print('Total:', kitty, 'thats', round(kitty_balance, 2), 'each')\n",
    "        print()\n",
    "        self.debt = []\n",
    "        self.credit = []\n",
    "\n",
    "        for j in party_members:\n",
    "            j.person_balance = j.paid - kitty_balance\n",
    "            if j.person_balance > 0:\n",
    "                self.credit.append(j)\n",
    "                print('{0} blance is {1:.2f}'.format(j.name, j.person_balance))\n",
    "            if j.person_balance < 0:\n",
    "                self.debt.append(j)\n",
    "                print('{0} balance is {1:.2f}'.format(j.name, j.person_balance))\n",
    "        print()\n",
    "\n",
    "        for x in self.debt:\n",
    "            for y in self.credit:\n",
    "                if x.person_balance < -y.person_balance:\n",
    "                    z = y.person_balance\n",
    "                    x.person_balance += y.person_balance\n",
    "                    y.person_balance = 0\n",
    "                else:\n",
    "                    z = -x.person_balance\n",
    "                    y.person_balance += x.person_balance\n",
    "                    x.person_balance = 0\n",
    "                print('{0} pays {1} {2:.2f}'.format(x.name, y.name, z))\n",
    "        return\n",
    "\n",
    "\n"
   ]
  },
  {
   "cell_type": "markdown",
   "metadata": {},
   "source": [
    "Sample 1"
   ]
  },
  {
   "cell_type": "code",
   "execution_count": null,
   "metadata": {},
   "outputs": [],
   "source": [
    "annie = Person('Annie')\n",
    "sally = Person('Sally')\n",
    "bill = Person('Bill')\n",
    "\n",
    "concert = Event('Concert', [annie, sally, bill])\n",
    "concert.add_transaction('Tickets', 180, annie)\n",
    "concert.add_transaction('Dinner', 75, sally)\n",
    "concert.add_transaction('Drink', 19, bill)\n",
    "concert.add_transaction('Tickets', 16, bill)\n",
    "\n",
    "concert.balance_kitty()"
   ]
  },
  {
   "cell_type": "markdown",
   "metadata": {},
   "source": [
    "Sample 2"
   ]
  },
  {
   "cell_type": "code",
   "execution_count": null,
   "metadata": {},
   "outputs": [],
   "source": [
    "cathy = Person('Cathy')\n",
    "robin = Person('Robin')\n",
    "jen = Person('Jen')\n",
    "\n",
    "cinima = Event('cinima', [cathy, robin, jen])\n",
    "cinima.add_transaction('Tickets',33, cathy)\n",
    "cinima.add_transaction('Dinner',60, robin)\n",
    "cinima.add_transaction('Drinks',21, jen)\n",
    "cinima.add_transaction('Taxi',27, jen)\n",
    "\n",
    "cinima.balance_kitty()"
   ]
  },
  {
   "cell_type": "markdown",
   "metadata": {},
   "source": [
    "Sample 3"
   ]
  },
  {
   "cell_type": "code",
   "execution_count": null,
   "metadata": {},
   "outputs": [],
   "source": [
    "nora = Person('Nora')\n",
    "eva = Person('Eva')\n",
    "frankie = Person('Frankie')\n",
    "harry = Person('harry')\n",
    "\n",
    "weekend = Event('Weekend away', [nora, eva, frankie, harry])\n",
    "weekend.add_transaction('Dinner Friday',110, nora)\n",
    "weekend.add_transaction('lunch',60, eva)\n",
    "weekend.add_transaction('Sunday Lunch',125, frankie)\n",
    "weekend.add_transaction('dinner',70, harry)\n",
    "\n",
    "weekend.balance_kitty()"
   ]
  },
  {
   "cell_type": "code",
   "execution_count": null,
   "metadata": {},
   "outputs": [],
   "source": []
  },
  {
   "cell_type": "code",
   "execution_count": null,
   "metadata": {},
   "outputs": [],
   "source": []
  },
  {
   "cell_type": "code",
   "execution_count": null,
   "metadata": {},
   "outputs": [],
   "source": []
  },
  {
   "cell_type": "code",
   "execution_count": null,
   "metadata": {},
   "outputs": [],
   "source": []
  }
 ],
 "metadata": {
  "kernelspec": {
   "display_name": "Python 3",
   "language": "python",
   "name": "python3"
  },
  "language_info": {
   "codemirror_mode": {
    "name": "ipython",
    "version": 3
   },
   "file_extension": ".py",
   "mimetype": "text/x-python",
   "name": "python",
   "nbconvert_exporter": "python",
   "pygments_lexer": "ipython3",
   "version": "3.8.3"
  }
 },
 "nbformat": 4,
 "nbformat_minor": 4
}
